{
 "cells": [
  {
   "cell_type": "code",
   "execution_count": 1,
   "metadata": {},
   "outputs": [],
   "source": [
    "import sys\n",
    "import pkg_resources\n",
    "installed = {pkg.key for pkg in pkg_resources.working_set}\n",
    "if \"pandas\" not in installed:\n",
    "    !{sys.executable} -m pip install pandas\n",
    "# Snscrape is better than Tweept\n",
    "# 1. no authentication required\n",
    "# 2. no limits imposed on the number of tweets to retrieve\n",
    "# 3. easy to use\n",
    "if \"snscrape\" not in installed:\n",
    "    !{sys.executable} -m pip install snscrape  "
   ]
  },
  {
   "cell_type": "code",
   "execution_count": null,
   "metadata": {},
   "outputs": [],
   "source": [
    "# Scraping tweets from Twitter\n",
    "import snscrape.modules.twitter as sntwitter\n",
    "import pandas as pd\n",
    "\n",
    "query = \"(to:NEOM) lang:en until:2023-02-28 since:2022-01-01\"\n",
    "tweets = []\n",
    "limit = 5000\n",
    "for tweet in sntwitter.TwitterSearchScraper(query).get_items():\n",
    "    #print(vars(tweet))\n",
    "    #break\n",
    "    if len(tweets) == limit:\n",
    "        break\n",
    "    else:\n",
    "        tweets.append([tweet.rawContent])\n",
    "    \n",
    "# Creating a data frame\n",
    "df = pd.DataFrame(tweets, columns=['Tweet'])\n",
    "#print(df)\n"
   ]
  },
  {
   "cell_type": "code",
   "execution_count": null,
   "metadata": {},
   "outputs": [],
   "source": [
    "# Saving tweets in csv file\n",
    "df.to_csv(\"tweetsFile.csv\", sep='\\t')"
   ]
  }
 ],
 "metadata": {
  "kernelspec": {
   "display_name": "base",
   "language": "python",
   "name": "python3"
  },
  "language_info": {
   "codemirror_mode": {
    "name": "ipython",
    "version": 3
   },
   "file_extension": ".py",
   "mimetype": "text/x-python",
   "name": "python",
   "nbconvert_exporter": "python",
   "pygments_lexer": "ipython3",
   "version": "3.10.5"
  },
  "orig_nbformat": 4
 },
 "nbformat": 4,
 "nbformat_minor": 2
}
